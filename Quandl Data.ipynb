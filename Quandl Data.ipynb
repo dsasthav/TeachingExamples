{
 "cells": [
  {
   "cell_type": "markdown",
   "metadata": {},
   "source": [
    "# Getting Financial Data from Quandl"
   ]
  },
  {
   "cell_type": "markdown",
   "metadata": {},
   "source": [
    "Quandl is an open source database that contains all kinds of financial, economic, and real estate data you can use for your personal analysis. Check out more about the website here: www.quandl.com"
   ]
  },
  {
   "cell_type": "markdown",
   "metadata": {},
   "source": [
    "This notebook will walk through the process of downloading the quandl package, setting up a quandl account, and scraping data using the Quandl API. We will run some basic preliminary analysis on the data, but we will leave it mostly up to you to figure out how to analyze the data once we get it. Here are the steps to follow:\n",
    "\n",
    "1. Download the 'quandl' package for Python\n",
    "2. Setup a Quandl account to get an API token\n",
    "3. Use the API to get a dataset you want\n",
    "4. Explore the data"
   ]
  },
  {
   "cell_type": "markdown",
   "metadata": {},
   "source": [
    "Before you continue, please check out this website: https://www.quandl.com/docs/api. I got all the information for this notebook from this site.This site also shows you to scrape data into Excel which might be an easier place to start depending on what you want to do with the data. If anything in this notebook doesn't work, please check out this website to debug."
   ]
  },
  {
   "cell_type": "markdown",
   "metadata": {},
   "source": [
    "## 1. Download the 'quandl' package for Python"
   ]
  },
  {
   "cell_type": "markdown",
   "metadata": {},
   "source": [
    "There are two main options to do this (Option A being the easier way):\n",
    "\n",
    "Option A: Using the command prompt / terminal\n",
    "\n",
    "Option B: Downloading the file from Github\n",
    "\n",
    "For more details on installation, click here: https://www.quandl.com/docs/api#installation"
   ]
  },
  {
   "cell_type": "markdown",
   "metadata": {},
   "source": [
    "### Option A: Using the command prompt / terminal"
   ]
  },
  {
   "cell_type": "markdown",
   "metadata": {},
   "source": [
    "Look through your apps and open your Command Prompt (Windows) or Terminal (Macs). Everyone should have downloaded Anaconda before the workshop.\n",
    "\n",
    "Type 'conda install pip' into the command prompt. This will install pip to your machine. Pip is a package that basically lets you install a bunch of other packages.\n",
    "\n",
    "After pip is downloaded and installed, type 'pip install quandl' into the command prompt / terminal. This will install the quandl package onto your machine so you can now use their API."
   ]
  },
  {
   "cell_type": "markdown",
   "metadata": {},
   "source": [
    "### Option B: Downloading the file from Github"
   ]
  },
  {
   "cell_type": "markdown",
   "metadata": {},
   "source": [
    "Go to this link: https://github.com/quandl/quandl-python\n",
    "\n",
    "On the right side of the page, you will see a green button that says \"Clone or Download.\" Click that button and download the zip file.\n",
    "\n",
    "Once the zip file is downloaded, copy all the files into your Python library folder."
   ]
  },
  {
   "cell_type": "markdown",
   "metadata": {},
   "source": [
    "## 2. Setup a Quandl account to get an API token"
   ]
  },
  {
   "cell_type": "markdown",
   "metadata": {},
   "source": [
    "Go to www.quandl.com\n",
    "\n",
    "On the right side of the page, click the button that says \"Sign Up\"\n",
    "\n",
    "Enter your email and a password. You will receive an email with a long API token. Copy and paste that API token string below."
   ]
  },
  {
   "cell_type": "markdown",
   "metadata": {},
   "source": [
    "## 3. Use the API to get a dataset you want"
   ]
  },
  {
   "cell_type": "markdown",
   "metadata": {},
   "source": [
    "For this section, we will need to import the quandl library to use the API functions."
   ]
  },
  {
   "cell_type": "code",
   "execution_count": 3,
   "metadata": {
    "collapsed": true
   },
   "outputs": [],
   "source": [
    "import quandl\n",
    "\n",
    "# configure the API key\n",
    "quandl.ApiConfig.api_key = '9SK9WkGsRvrev2s5ocPH'"
   ]
  },
  {
   "cell_type": "markdown",
   "metadata": {},
   "source": [
    "For the simple examples, we will use the quandl.get() function. Check out the API docs for more info.\n",
    "\n",
    "https://www.quandl.com/docs/api"
   ]
  },
  {
   "cell_type": "code",
   "execution_count": 4,
   "metadata": {},
   "outputs": [
    {
     "name": "stdout",
     "output_type": "stream",
     "text": [
      "             Open   High    Low    Close       Volume  Ex-Dividend  \\\n",
      "Date                                                                 \n",
      "2012-05-18  42.05  45.00  38.00  38.2318  573576400.0          0.0   \n",
      "2012-05-21  36.53  36.66  33.00  34.0300  168192700.0          0.0   \n",
      "2012-05-22  32.61  33.59  30.94  31.0000  101786600.0          0.0   \n",
      "2012-05-23  31.37  32.50  31.36  32.0000   73600000.0          0.0   \n",
      "2012-05-24  32.95  33.21  31.77  33.0300   50237200.0          0.0   \n",
      "\n",
      "            Split Ratio  Adj. Open  Adj. High  Adj. Low  Adj. Close  \\\n",
      "Date                                                                  \n",
      "2012-05-18          1.0      42.05      45.00     38.00     38.2318   \n",
      "2012-05-21          1.0      36.53      36.66     33.00     34.0300   \n",
      "2012-05-22          1.0      32.61      33.59     30.94     31.0000   \n",
      "2012-05-23          1.0      31.37      32.50     31.36     32.0000   \n",
      "2012-05-24          1.0      32.95      33.21     31.77     33.0300   \n",
      "\n",
      "            Adj. Volume  \n",
      "Date                     \n",
      "2012-05-18  573576400.0  \n",
      "2012-05-21  168192700.0  \n",
      "2012-05-22  101786600.0  \n",
      "2012-05-23   73600000.0  \n",
      "2012-05-24   50237200.0  \n"
     ]
    }
   ],
   "source": [
    "# Get a simple time series\n",
    "data1 = quandl.get('WIKI/FB') # Get Facebook stocks\n",
    "\n",
    "print (data1.head())"
   ]
  },
  {
   "cell_type": "code",
   "execution_count": 5,
   "metadata": {},
   "outputs": [
    {
     "name": "stdout",
     "output_type": "stream",
     "text": [
      "             Open   High    Low  Close     Volume  Ex-Dividend  Split Ratio  \\\n",
      "Date                                                                          \n",
      "2007-01-03  48.37  48.88  48.28  48.58  7876700.0          0.0          1.0   \n",
      "2007-01-04  48.42  48.70  48.25  48.60  5905200.0          0.0          1.0   \n",
      "2007-01-05  48.50  48.57  48.17  48.26  5803500.0          0.0          1.0   \n",
      "2007-01-08  48.17  48.67  48.01  48.57  8775500.0          0.0          1.0   \n",
      "2007-01-09  48.54  48.83  48.46  48.61  6862000.0          0.0          1.0   \n",
      "\n",
      "            Adj. Open  Adj. High   Adj. Low  Adj. Close  Adj. Volume  \n",
      "Date                                                                  \n",
      "2007-01-03  17.670004  17.856312  17.637126   17.746719   15753400.0  \n",
      "2007-01-04  17.688269  17.790556  17.626167   17.754025   11810400.0  \n",
      "2007-01-05  17.717494  17.743066  17.596942   17.629820   11607000.0  \n",
      "2007-01-08  17.596942  17.779597  17.538493   17.743066   17551000.0  \n",
      "2007-01-09  17.732107  17.838046  17.702882   17.757678   13724000.0  \n"
     ]
    }
   ],
   "source": [
    "# Get a custom time series\n",
    "data2 = quandl.get(\"WIKI/KO\", start_date=\"2007-01-01\", end_date=\"2016-12-31\") # Get coca cola stocks\n",
    "\n",
    "print (data2.head())"
   ]
  },
  {
   "cell_type": "markdown",
   "metadata": {},
   "source": [
    "The quandl.get() function works by entering a string telling it what database you want to pull from. The syntax is 'database/dataset'. You will need to go here: https://www.quandl.com/browse to look through all the data that is available. Just click on the dataset icon you want, find its metadata in the documentation, and it will tell you the name of the database and the dataset to enter into the function"
   ]
  },
  {
   "cell_type": "markdown",
   "metadata": {},
   "source": [
    "## 4. Explore the data"
   ]
  },
  {
   "cell_type": "markdown",
   "metadata": {},
   "source": [
    "I will leave this up to you to explore and analyze the data how you wish. You can treat the data like a pandas dataframe.\n",
    "\n",
    "Here is an example of how to plot the data using matplotlib and pandas."
   ]
  },
  {
   "cell_type": "code",
   "execution_count": 6,
   "metadata": {
    "collapsed": true
   },
   "outputs": [],
   "source": [
    "import pandas as pd\n",
    "import matplotlib.pyplot as plt"
   ]
  },
  {
   "cell_type": "code",
   "execution_count": 7,
   "metadata": {},
   "outputs": [
    {
     "data": {
      "image/png": "[encoded data removed]",
      "text/plain": [
       "<matplotlib.figure.Figure at 0x2750a227748>"
      ]
     },
     "metadata": {},
     "output_type": "display_data"
    }
   ],
   "source": [
    "data2[\"Open\"].plot()\n",
    "plt.title(\"Coca Cola Stock Price Over Time\")\n",
    "plt.ylabel(\"Open Price\")\n",
    "plt.show()"
   ]
  },
  {
   "cell_type": "code",
   "execution_count": null,
   "metadata": {
    "collapsed": true
   },
   "outputs": [],
   "source": []
  }
 ],
 "metadata": {
  "anaconda-cloud": {},
  "kernelspec": {
   "display_name": "Python 3",
   "language": "python",
   "name": "python3"
  },
  "language_info": {
   "codemirror_mode": {
    "name": "ipython",
    "version": 3
   },
   "file_extension": ".py",
   "mimetype": "text/x-python",
   "name": "python",
   "nbconvert_exporter": "python",
   "pygments_lexer": "ipython3",
   "version": "3.6.1"
  }
 },
 "nbformat": 4,
 "nbformat_minor": 1
}
