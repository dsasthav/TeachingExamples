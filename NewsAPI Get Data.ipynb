{
 "cells": [
  {
   "cell_type": "markdown",
   "metadata": {},
   "source": [
    "# Scraping News articles using NewsAPI"
   ]
  },
  {
   "cell_type": "markdown",
   "metadata": {},
   "source": [
    "In this notebook, we will use the NewsAPI from www.newsapi.org to scrape news articles from any of the popular news websites. Click here: https://newsapi.org/sources to see all the possible sources for news data.\n",
    "\n",
    "This can be used for many purposes including natural language processing. One interesting application could be to use the text from the news headlines to predict movement of specific stocks in the market."
   ]
  },
  {
   "cell_type": "markdown",
   "metadata": {},
   "source": [
    "This notebook will show you how to set up a NewsAPI account and pull data. We will also quickly discuss the type of data that is returned because it does not come in a pretty dataframe like you would expect. It is important to understand how lists and dictionaries work to understand this process"
   ]
  },
  {
   "cell_type": "markdown",
   "metadata": {},
   "source": [
    "Here are the steps to this process:\n",
    "\n",
    "1. Setup a NewsAPI account and get an API Token\n",
    "2. Request the raw data from the NewsAPI\n",
    "3. Convert that raw data into something usable for analysis"
   ]
  },
  {
   "cell_type": "markdown",
   "metadata": {},
   "source": [
    "## 1. Set up a NewsAPI account and get an API Token"
   ]
  },
  {
   "cell_type": "markdown",
   "metadata": {},
   "source": [
    "Go to www.newsapi.org. On the top right of the page, click \"Get API Key\". You'll need to enter your email and a password. They will send you an authorization key via email. Copy that long string to the variable 'api_key' below."
   ]
  },
  {
   "cell_type": "markdown",
   "metadata": {},
   "source": [
    "## 2. Request the raw data from the NewsAPI"
   ]
  },
  {
   "cell_type": "markdown",
   "metadata": {},
   "source": [
    "First, I want to give you a brief idea of how an API works. API stands for Application Programming Interface. Basically, the purpose of an API is to make it easier for any random person to scrape data from a specific site or database without having to go through a bunch of really technical, nitty gritty work. For example, Twitter and Facebook both have API's that let you scrape data about people's behavior on social media. Their API makes it much easier for people to gather data.\n",
    "\n",
    "For a more detailed description, click here: http://www.programmableweb.com/api-university/what-are-apis-and-how-do-they-work"
   ]
  },
  {
   "cell_type": "code",
   "execution_count": 1,
   "metadata": {
    "collapsed": true
   },
   "outputs": [],
   "source": [
    "import urllib3, requests, json"
   ]
  },
  {
   "cell_type": "code",
   "execution_count": 2,
   "metadata": {
    "collapsed": true
   },
   "outputs": [],
   "source": [
    "# Make sure to put in the API key you received when creating an account\n",
    "api_key = \"bc09befedac64b07a7291e127340290d\""
   ]
  },
  {
   "cell_type": "markdown",
   "metadata": {},
   "source": [
    "In this next cell, you will need to make sure to change your URL depending on what source you want your data to come from. In this case, I requested news articles from Tech Crunch, so you will see that I put the string 'techcrunch' as my source in the URL. Check out the documentation to see more about how the request should be formatted as well as other potential sources of news."
   ]
  },
  {
   "cell_type": "code",
   "execution_count": 3,
   "metadata": {
    "collapsed": true
   },
   "outputs": [],
   "source": [
    "# Creating the URL to request the news from\n",
    "url = \"https://newsapi.org/v1/articles?source=techcrunch&apiKey=\" + api_key\n",
    "request = requests.get(url) # make a request to the site"
   ]
  },
  {
   "cell_type": "markdown",
   "metadata": {},
   "source": [
    "We are going to use a library calld json to help clean our data. JSON stands for javascript object notation and it's the data type that many websites use. It's basically a fancy version of a dictionary, so you can think of it like a python dict.\n",
    "\n",
    "For more details about json, click here: https://docs.python.org/2/library/json.html"
   ]
  },
  {
   "cell_type": "code",
   "execution_count": 4,
   "metadata": {
    "collapsed": true
   },
   "outputs": [],
   "source": [
    "json_data = request.json() # convert website data into json format"
   ]
  },
  {
   "cell_type": "code",
   "execution_count": 5,
   "metadata": {},
   "outputs": [
    {
     "name": "stdout",
     "output_type": "stream",
     "text": [
      "macOS High Sierra’s best features are the ones you don’t see\n",
      "Blue Apron IPO off to a rough start\n",
      "Microsoft confirms Cloudyn acquisition, sources say price is between $50M and $70M\n",
      "Uber ATG upgrades its autonomous truck test fleet with new tech\n"
     ]
    }
   ],
   "source": [
    "# Check out some of the headlines returned from the request\n",
    "for article in json_data[\"articles\"]:\n",
    "    print (article[\"title\"])"
   ]
  },
  {
   "cell_type": "code",
   "execution_count": 6,
   "metadata": {},
   "outputs": [
    {
     "name": "stdout",
     "output_type": "stream",
     "text": [
      "The new operating system isn't rife with shiny new features, but it brings enhancements under the hood designed to speed up devices. More importantly, they..\n"
     ]
    }
   ],
   "source": [
    "# Look at the article text for the first article\n",
    "print(json_data[\"articles\"][0][\"description\"])"
   ]
  },
  {
   "cell_type": "markdown",
   "metadata": {},
   "source": [
    "## 3. Convert that raw data into something useful"
   ]
  },
  {
   "cell_type": "code",
   "execution_count": 7,
   "metadata": {
    "collapsed": true
   },
   "outputs": [],
   "source": [
    "# We can actually convert this data to a dataframe for easier analysis\n",
    "import pandas as pd"
   ]
  },
  {
   "cell_type": "code",
   "execution_count": 8,
   "metadata": {},
   "outputs": [
    {
     "data": {
      "text/html": [
       "<div>\n",
       "<table border=\"1\" class=\"dataframe\">\n",
       "  <thead>\n",
       "    <tr style=\"text-align: right;\">\n",
       "      <th></th>\n",
       "      <th>author</th>\n",
       "      <th>description</th>\n",
       "      <th>publishedAt</th>\n",
       "      <th>title</th>\n",
       "      <th>url</th>\n",
       "      <th>urlToImage</th>\n",
       "    </tr>\n",
       "  </thead>\n",
       "  <tbody>\n",
       "    <tr>\n",
       "      <th>0</th>\n",
       "      <td>Brian Heater</td>\n",
       "      <td>The new operating system isn't rife with shiny...</td>\n",
       "      <td>2017-06-29T21:04:01Z</td>\n",
       "      <td>macOS High Sierra’s best features are the ones...</td>\n",
       "      <td>https://techcrunch.com/2017/06/29/macos-high-s...</td>\n",
       "      <td>https://tctechcrunch2011.files.wordpress.com/2...</td>\n",
       "    </tr>\n",
       "    <tr>\n",
       "      <th>1</th>\n",
       "      <td>Katie Roof</td>\n",
       "      <td>Meal delivery business Blue Apron opened for t...</td>\n",
       "      <td>2017-06-29T15:01:00Z</td>\n",
       "      <td>Blue Apron IPO off to a rough start</td>\n",
       "      <td>https://techcrunch.com/2017/06/29/blue-apron-i...</td>\n",
       "      <td>https://tctechcrunch2011.files.wordpress.com/2...</td>\n",
       "    </tr>\n",
       "    <tr>\n",
       "      <th>2</th>\n",
       "      <td>Ingrid Lunden, Ron Miller</td>\n",
       "      <td>Back in April, we began hearing that Microsoft...</td>\n",
       "      <td>2017-06-29T14:04:23Z</td>\n",
       "      <td>Microsoft confirms Cloudyn acquisition, source...</td>\n",
       "      <td>https://techcrunch.com/2017/06/29/microsoft-fi...</td>\n",
       "      <td>https://tctechcrunch2011.files.wordpress.com/2...</td>\n",
       "    </tr>\n",
       "    <tr>\n",
       "      <th>3</th>\n",
       "      <td>Darrell Etherington</td>\n",
       "      <td>Uber's Advanced Technologies Group has a new v...</td>\n",
       "      <td>2017-06-29T13:00:03Z</td>\n",
       "      <td>Uber ATG upgrades its autonomous truck test fl...</td>\n",
       "      <td>https://techcrunch.com/2017/06/29/uber-atg-upg...</td>\n",
       "      <td>https://tctechcrunch2011.files.wordpress.com/2...</td>\n",
       "    </tr>\n",
       "  </tbody>\n",
       "</table>\n",
       "</div>"
      ],
      "text/plain": [
       "                      author  \\\n",
       "0               Brian Heater   \n",
       "1                 Katie Roof   \n",
       "2  Ingrid Lunden, Ron Miller   \n",
       "3        Darrell Etherington   \n",
       "\n",
       "                                         description           publishedAt  \\\n",
       "0  The new operating system isn't rife with shiny...  2017-06-29T21:04:01Z   \n",
       "1  Meal delivery business Blue Apron opened for t...  2017-06-29T15:01:00Z   \n",
       "2  Back in April, we began hearing that Microsoft...  2017-06-29T14:04:23Z   \n",
       "3  Uber's Advanced Technologies Group has a new v...  2017-06-29T13:00:03Z   \n",
       "\n",
       "                                               title  \\\n",
       "0  macOS High Sierra’s best features are the ones...   \n",
       "1                Blue Apron IPO off to a rough start   \n",
       "2  Microsoft confirms Cloudyn acquisition, source...   \n",
       "3  Uber ATG upgrades its autonomous truck test fl...   \n",
       "\n",
       "                                                 url  \\\n",
       "0  https://techcrunch.com/2017/06/29/macos-high-s...   \n",
       "1  https://techcrunch.com/2017/06/29/blue-apron-i...   \n",
       "2  https://techcrunch.com/2017/06/29/microsoft-fi...   \n",
       "3  https://techcrunch.com/2017/06/29/uber-atg-upg...   \n",
       "\n",
       "                                          urlToImage  \n",
       "0  https://tctechcrunch2011.files.wordpress.com/2...  \n",
       "1  https://tctechcrunch2011.files.wordpress.com/2...  \n",
       "2  https://tctechcrunch2011.files.wordpress.com/2...  \n",
       "3  https://tctechcrunch2011.files.wordpress.com/2...  "
      ]
     },
     "execution_count": 8,
     "metadata": {},
     "output_type": "execute_result"
    }
   ],
   "source": [
    "# Convert the dictionary to a dataframe\n",
    "news_df = pd.DataFrame(json_data[\"articles\"])\n",
    "\n",
    "news_df.head()"
   ]
  },
  {
   "cell_type": "markdown",
   "metadata": {
    "collapsed": true
   },
   "source": [
    "Feel free to continue this analysis in whatever way you see fit. "
   ]
  },
  {
   "cell_type": "code",
   "execution_count": null,
   "metadata": {
    "collapsed": true
   },
   "outputs": [],
   "source": []
  }
 ],
 "metadata": {
  "anaconda-cloud": {},
  "kernelspec": {
   "display_name": "Python 3",
   "language": "python",
   "name": "python3"
  },
  "language_info": {
   "codemirror_mode": {
    "name": "ipython",
    "version": 3
   },
   "file_extension": ".py",
   "mimetype": "text/x-python",
   "name": "python",
   "nbconvert_exporter": "python",
   "pygments_lexer": "ipython3",
   "version": "3.6.4"
  }
 },
 "nbformat": 4,
 "nbformat_minor": 1
}
