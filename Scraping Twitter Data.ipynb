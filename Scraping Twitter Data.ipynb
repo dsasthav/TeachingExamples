{
 "cells": [
  {
   "cell_type": "markdown",
   "metadata": {
    "collapsed": true
   },
   "source": [
    "# Scraping Twitter Data Using the Tweepy Module"
   ]
  },
  {
   "cell_type": "markdown",
   "metadata": {},
   "source": [
    "### Instructions"
   ]
  },
  {
   "cell_type": "markdown",
   "metadata": {},
   "source": [
    "1. Download the tweepy module\n",
    "2. Download the nltk and json modules\n",
    "3. Register a Developer account with Twitter\n",
    "4. Run this notebook"
   ]
  },
  {
   "cell_type": "markdown",
   "metadata": {},
   "source": [
    "#### 1. Download the tweepy module"
   ]
  },
  {
   "cell_type": "markdown",
   "metadata": {},
   "source": [
    "tweepy is one of the Python modules to utilize Twitter's developer API. This module makes it very easy to scrape tweets.\n",
    "\n",
    "The download for this should be straightforward. If you downloaded Python correctly, it should have come with a package manager called 'pip'. Pip lets you download various packages that don't come with Anaconda. \n",
    "\n",
    "In the Command Prompt (or Terminal for Macs), enter 'pip install tweepy' to download the module onto your computer. This will save the package onto your machine. Then, all you need to do is import tweepy into your environment (shown below)."
   ]
  },
  {
   "cell_type": "markdown",
   "metadata": {},
   "source": [
    "#### 2. Download the nltk and json modules"
   ]
  },
  {
   "cell_type": "markdown",
   "metadata": {},
   "source": [
    "The nltk (Natural Language Toolkit) module is Python's module for natural language processing. We will use it to analyze the words of specific tweets.\n",
    "\n",
    "The json (Javascript Object Notation) module is using for parsing JSON data (the form that Twitter data comes in)."
   ]
  },
  {
   "cell_type": "markdown",
   "metadata": {},
   "source": [
    "Download these two packages the same way you installed tweepy. Enter 'pip install nltk' and 'pip install json' into your Command Prompt or Terminal."
   ]
  },
  {
   "cell_type": "markdown",
   "metadata": {},
   "source": [
    "#### 3. Register a Developer Account with Twitter"
   ]
  },
  {
   "cell_type": "markdown",
   "metadata": {},
   "source": [
    "Go to https://dev.twitter.com/ and click \"Join\" to make an account. After registering, you will need to Create an App. You will need to create a name for your app and give it a URL for your app. Try to just make up a dummy URL for your app unless you have a legitimate site you want to use. This part isn't such a big deal."
   ]
  },
  {
   "cell_type": "markdown",
   "metadata": {},
   "source": [
    "Once you make an account and register your app, you will need to find 4 codes they give you:\n",
    "\n",
    "1. Consumer Key\n",
    "2. Consumer Secret\n",
    "3. Access Token\n",
    "4. Access Secret.\n",
    "\n",
    "Make sure you keep track of these somewhere because you will need to use them in your Python code."
   ]
  },
  {
   "cell_type": "markdown",
   "metadata": {},
   "source": [
    "#### 4. Try out some code!"
   ]
  },
  {
   "cell_type": "markdown",
   "metadata": {},
   "source": [
    "This is some basic code you can try to get the feel for pulling tweets into Python. This is very simple code and much more advanced analysis can be done."
   ]
  },
  {
   "cell_type": "code",
   "execution_count": 1,
   "metadata": {},
   "outputs": [],
   "source": [
    "# Import modules\n",
    "import tweepy\n",
    "import pandas as pd\n",
    "import nltk.corpus as nl\n",
    "import matplotlib.pyplot as plt\n",
    "import json\n",
    "from collections import Counter"
   ]
  },
  {
   "cell_type": "code",
   "execution_count": 2,
   "metadata": {},
   "outputs": [],
   "source": [
    "# Enter your codes here\n",
    "consumer_key = \"edd2UXhicdden5CmazSi812K2\"\n",
    "consumer_secret = \"Nhu2NS0N1UuALibayS1JAK5AITaZhJj6L7WN9Tgx57UMRTvsnc\"\n",
    "access_token = \"377695843-eco3jczvXVf7viyySd8UU0tedf8sgHLKWiRaGG1h\"\n",
    "access_secret = \"T8oc0z1z2Rs4yVrOmO62TGYY3LROWMTfovhHfR0XxX9Qp\"\n",
    "\n",
    "# Set up connection to Twitter\n",
    "auth = tweepy.OAuthHandler(consumer_key, consumer_secret)\n",
    "auth.set_access_token(access_token, access_secret)\n",
    " \n",
    "api = tweepy.API(auth)"
   ]
  },
  {
   "cell_type": "code",
   "execution_count": 3,
   "metadata": {},
   "outputs": [
    {
     "name": "stdout",
     "output_type": "stream",
     "text": [
      "How Uber Depends on Data Analytics to Deliver Extreme Customer Service : Face To Face With Uber's Chief Data Archit… https://t.co/WAyGJYHw4V\n",
      "RT @thebiasbitch: White people have the luxury to not care about politics because they don’t HAVE to.  It’s more than a disagreement when t…\n",
      "My Mom had me when she was 41. My Father was 60 (!) when I was born. I thought with age came a ton of wisdom. I thi… https://t.co/sANmtmJREq\n",
      "President Trump made at least 26 false claims in his 87-minute rally speech in Dallas on Thursday, including an ina… https://t.co/4ieL1wCQKu\n",
      "Can Boris Johnson ‘get Brexit done’? https://t.co/yKTf7cRv3U\n",
      "Donald Trump’s presidency continues its bizarre degeneration https://t.co/CWGtB09Mgm\n",
      "Trader Rokos restructures firm in bid to improve performance https://t.co/ibQfLmLANG\n",
      "A new exhibition at London's Design Museum features over 200 objects and full-size Mars habitat modules that explor… https://t.co/HhYfjB6wTk\n",
      "Holiday season warning cools retail stocks https://t.co/LIta8xbYOJ\n",
      "RT @BaronDavis: Daaaang. RB1, kicker, defense on byes for my #fantasyfootball team. My dawg @IBMWatson be workin overtime for me this week!…\n"
     ]
    }
   ],
   "source": [
    "# Read the top 10 tweets from your own timeline\n",
    "\n",
    "for status in tweepy.Cursor(api.home_timeline).items(10):\n",
    "    # Process a single status\n",
    "    print(status.text) "
   ]
  },
  {
   "cell_type": "markdown",
   "metadata": {},
   "source": [
    "#### Take a loop at the president's tweets"
   ]
  },
  {
   "cell_type": "code",
   "execution_count": 4,
   "metadata": {},
   "outputs": [],
   "source": [
    "# Get his most recent 200 tweets\n",
    "new_tweets = api.user_timeline(screen_name = \"realDonaldTrump\",count=200)"
   ]
  },
  {
   "cell_type": "markdown",
   "metadata": {},
   "source": [
    "After a little bit of formatting, you'll see that Tweets come in the form of dictionaries! (See, they are useful!)"
   ]
  },
  {
   "cell_type": "code",
   "execution_count": 5,
   "metadata": {},
   "outputs": [],
   "source": [
    "# Use the JSON module to put the tweet in the format we want\n",
    "tweet_dict = json.loads(json.dumps(new_tweets[0]._json).encode('UTF-8')) # Just look at the most recent tweet"
   ]
  },
  {
   "cell_type": "markdown",
   "metadata": {},
   "source": [
    "Let's take a look at the keys and values from a tweet dictionary data type."
   ]
  },
  {
   "cell_type": "code",
   "execution_count": 6,
   "metadata": {},
   "outputs": [
    {
     "name": "stdout",
     "output_type": "stream",
     "text": [
      "created_at: Fri Oct 18 15:51:42 +0000 2019\n",
      "id: 1185221926991609862\n",
      "id_str: 1185221926991609862\n",
      "text: Can you believe I am doing this important work for our Country, and have to deal with Corrupt Adam Schiff and the D… https://t.co/a9HvmsXW6O\n",
      "truncated: True\n",
      "entities: {'hashtags': [], 'symbols': [], 'user_mentions': [], 'urls': [{'url': 'https://t.co/a9HvmsXW6O', 'expanded_url': 'https://twitter.com/i/web/status/1185221926991609862', 'display_url': 'twitter.com/i/web/status/1…', 'indices': [117, 140]}]}\n",
      "source: <a href=\"http://twitter.com/download/iphone\" rel=\"nofollow\">Twitter for iPhone</a>\n",
      "in_reply_to_status_id: None\n",
      "in_reply_to_status_id_str: None\n",
      "in_reply_to_user_id: None\n",
      "in_reply_to_user_id_str: None\n",
      "in_reply_to_screen_name: None\n",
      "user: {'id': 25073877, 'id_str': '25073877', 'name': 'Donald J. Trump', 'screen_name': 'realDonaldTrump', 'location': 'Washington, DC', 'description': '45th President of the United States of America🇺🇸', 'url': 'https://t.co/OMxB0x7xC5', 'entities': {'url': {'urls': [{'url': 'https://t.co/OMxB0x7xC5', 'expanded_url': 'http://www.Instagram.com/realDonaldTrump', 'display_url': 'Instagram.com/realDonaldTrump', 'indices': [0, 23]}]}, 'description': {'urls': []}}, 'protected': False, 'followers_count': 65948922, 'friends_count': 47, 'listed_count': 110051, 'created_at': 'Wed Mar 18 13:46:38 +0000 2009', 'favourites_count': 6, 'utc_offset': None, 'time_zone': None, 'geo_enabled': True, 'verified': True, 'statuses_count': 45283, 'lang': None, 'contributors_enabled': False, 'is_translator': False, 'is_translation_enabled': True, 'profile_background_color': '6D5C18', 'profile_background_image_url': 'http://abs.twimg.com/images/themes/theme1/bg.png', 'profile_background_image_url_https': 'https://abs.twimg.com/images/themes/theme1/bg.png', 'profile_background_tile': True, 'profile_image_url': 'http://pbs.twimg.com/profile_images/874276197357596672/kUuht00m_normal.jpg', 'profile_image_url_https': 'https://pbs.twimg.com/profile_images/874276197357596672/kUuht00m_normal.jpg', 'profile_banner_url': 'https://pbs.twimg.com/profile_banners/25073877/1560920145', 'profile_link_color': '1B95E0', 'profile_sidebar_border_color': 'BDDCAD', 'profile_sidebar_fill_color': 'C5CEC0', 'profile_text_color': '333333', 'profile_use_background_image': True, 'has_extended_profile': False, 'default_profile': False, 'default_profile_image': False, 'following': False, 'follow_request_sent': False, 'notifications': False, 'translator_type': 'regular'}\n",
      "geo: None\n",
      "coordinates: None\n",
      "place: None\n",
      "contributors: None\n",
      "is_quote_status: False\n",
      "retweet_count: 14979\n",
      "favorite_count: 60438\n",
      "favorited: False\n",
      "retweeted: False\n",
      "lang: en\n"
     ]
    }
   ],
   "source": [
    "for key in tweet_dict:\n",
    "    print (\"%s: %s\" % (key, tweet_dict[key]))"
   ]
  },
  {
   "cell_type": "markdown",
   "metadata": {},
   "source": [
    "## Now, we can start to do some analysis..."
   ]
  },
  {
   "cell_type": "markdown",
   "metadata": {},
   "source": [
    "First, let's get the data in the right form."
   ]
  },
  {
   "cell_type": "code",
   "execution_count": 7,
   "metadata": {},
   "outputs": [
    {
     "data": {
      "text/html": [
       "<div>\n",
       "<style scoped>\n",
       "    .dataframe tbody tr th:only-of-type {\n",
       "        vertical-align: middle;\n",
       "    }\n",
       "\n",
       "    .dataframe tbody tr th {\n",
       "        vertical-align: top;\n",
       "    }\n",
       "\n",
       "    .dataframe thead th {\n",
       "        text-align: right;\n",
       "    }\n",
       "</style>\n",
       "<table border=\"1\" class=\"dataframe\">\n",
       "  <thead>\n",
       "    <tr style=\"text-align: right;\">\n",
       "      <th></th>\n",
       "      <th>ID</th>\n",
       "      <th>Tweet</th>\n",
       "    </tr>\n",
       "    <tr>\n",
       "      <th>Date</th>\n",
       "      <th></th>\n",
       "      <th></th>\n",
       "    </tr>\n",
       "  </thead>\n",
       "  <tbody>\n",
       "    <tr>\n",
       "      <th>2019-10-18 15:51:42</th>\n",
       "      <td>1185221926991609862</td>\n",
       "      <td>b'Can you believe I am doing this important wo...</td>\n",
       "    </tr>\n",
       "    <tr>\n",
       "      <th>2019-10-18 15:46:14</th>\n",
       "      <td>1185220552254017537</td>\n",
       "      <td>b'DEFEAT TERRORISM! https://t.co/8WbnLPgWIK'</td>\n",
       "    </tr>\n",
       "    <tr>\n",
       "      <th>2019-10-18 15:42:37</th>\n",
       "      <td>1185219643432230913</td>\n",
       "      <td>b'....I have just been notified that some Euro...</td>\n",
       "    </tr>\n",
       "    <tr>\n",
       "      <th>2019-10-18 15:42:37</th>\n",
       "      <td>1185219642668867585</td>\n",
       "      <td>b'.....this thinking years ago. Instead, it wa...</td>\n",
       "    </tr>\n",
       "    <tr>\n",
       "      <th>2019-10-18 15:42:37</th>\n",
       "      <td>1185219641972539392</td>\n",
       "      <td>b'Just spoke to President @RTErdogan of Turkey...</td>\n",
       "    </tr>\n",
       "  </tbody>\n",
       "</table>\n",
       "</div>"
      ],
      "text/plain": [
       "                                      ID  \\\n",
       "Date                                       \n",
       "2019-10-18 15:51:42  1185221926991609862   \n",
       "2019-10-18 15:46:14  1185220552254017537   \n",
       "2019-10-18 15:42:37  1185219643432230913   \n",
       "2019-10-18 15:42:37  1185219642668867585   \n",
       "2019-10-18 15:42:37  1185219641972539392   \n",
       "\n",
       "                                                                 Tweet  \n",
       "Date                                                                    \n",
       "2019-10-18 15:51:42  b'Can you believe I am doing this important wo...  \n",
       "2019-10-18 15:46:14       b'DEFEAT TERRORISM! https://t.co/8WbnLPgWIK'  \n",
       "2019-10-18 15:42:37  b'....I have just been notified that some Euro...  \n",
       "2019-10-18 15:42:37  b'.....this thinking years ago. Instead, it wa...  \n",
       "2019-10-18 15:42:37  b'Just spoke to President @RTErdogan of Turkey...  "
      ]
     },
     "execution_count": 7,
     "metadata": {},
     "output_type": "execute_result"
    }
   ],
   "source": [
    "# Get the elements of the tweet that we want\n",
    "outtweets = [[tweet.id_str, tweet.created_at, tweet.text.encode(\"utf-8\")] for tweet in new_tweets]\n",
    "\n",
    "# Put tweets in a pandas dataframe\n",
    "df = pd.DataFrame(outtweets)\n",
    "df.columns = [\"ID\", \"Date\", \"Tweet\"]\n",
    "df = df.set_index(keys= \"Date\", drop= True)\n",
    "df.head()"
   ]
  },
  {
   "cell_type": "code",
   "execution_count": 8,
   "metadata": {},
   "outputs": [
    {
     "data": {
      "image/png": "[encoded data removed]",
      "text/plain": [
       "<matplotlib.figure.Figure at 0x1c18a8494a8>"
      ]
     },
     "metadata": {},
     "output_type": "display_data"
    }
   ],
   "source": [
    "# Add a field to count his tweets\n",
    "df[\"Tweet_Counter\"] = 1\n",
    "df_daily = df.resample(\"D\").sum()\n",
    "df_daily.plot()\n",
    "plt.title(\"Trump's Daily Tweet Counter for June 2018\")\n",
    "plt.ylabel(\"Number of Tweets\")\n",
    "plt.show()"
   ]
  },
  {
   "cell_type": "markdown",
   "metadata": {},
   "source": [
    "## Now, let's look at the word choice..."
   ]
  },
  {
   "cell_type": "markdown",
   "metadata": {},
   "source": [
    "First, let's do some data cleaning so we can actually count the words."
   ]
  },
  {
   "cell_type": "code",
   "execution_count": 9,
   "metadata": {},
   "outputs": [],
   "source": [
    "result = Counter(\" \".join(str(txt) for txt in df['Tweet'].values.tolist()).split(\" \")).items()\n",
    "word_counts = pd.DataFrame(list(result))\n",
    "word_counts.columns = [\"Word\", \"Count\"]\n",
    "word_counts = word_counts.sort_values(by=\"Count\", ascending = False)"
   ]
  },
  {
   "cell_type": "code",
   "execution_count": 10,
   "metadata": {},
   "outputs": [
    {
     "data": {
      "text/html": [
       "<div>\n",
       "<style scoped>\n",
       "    .dataframe tbody tr th:only-of-type {\n",
       "        vertical-align: middle;\n",
       "    }\n",
       "\n",
       "    .dataframe tbody tr th {\n",
       "        vertical-align: top;\n",
       "    }\n",
       "\n",
       "    .dataframe thead th {\n",
       "        text-align: right;\n",
       "    }\n",
       "</style>\n",
       "<table border=\"1\" class=\"dataframe\">\n",
       "  <thead>\n",
       "    <tr style=\"text-align: right;\">\n",
       "      <th></th>\n",
       "      <th>Word</th>\n",
       "      <th>Count</th>\n",
       "    </tr>\n",
       "  </thead>\n",
       "  <tbody>\n",
       "    <tr>\n",
       "      <th>20</th>\n",
       "      <td>the</td>\n",
       "      <td>124</td>\n",
       "    </tr>\n",
       "    <tr>\n",
       "      <th>14</th>\n",
       "      <td>to</td>\n",
       "      <td>73</td>\n",
       "    </tr>\n",
       "    <tr>\n",
       "      <th>66</th>\n",
       "      <td>of</td>\n",
       "      <td>60</td>\n",
       "    </tr>\n",
       "    <tr>\n",
       "      <th>79</th>\n",
       "      <td>b'RT</td>\n",
       "      <td>58</td>\n",
       "    </tr>\n",
       "    <tr>\n",
       "      <th>12</th>\n",
       "      <td>and</td>\n",
       "      <td>52</td>\n",
       "    </tr>\n",
       "  </tbody>\n",
       "</table>\n",
       "</div>"
      ],
      "text/plain": [
       "    Word  Count\n",
       "20   the    124\n",
       "14    to     73\n",
       "66    of     60\n",
       "79  b'RT     58\n",
       "12   and     52"
      ]
     },
     "execution_count": 10,
     "metadata": {},
     "output_type": "execute_result"
    }
   ],
   "source": [
    "word_counts.head()"
   ]
  },
  {
   "cell_type": "code",
   "execution_count": 11,
   "metadata": {},
   "outputs": [],
   "source": [
    "# Set all words to lower case\n",
    "word_counts[\"Word\"] = word_counts[\"Word\"].str.lower()\n",
    "\n",
    "# Remove punctuation\n",
    "word_counts['Word'] = word_counts['Word'].str.replace('[^\\w\\s]','')\n",
    "\n",
    "# Remove stopwords\n",
    "s_words = nl.stopwords.words(\"English\")\n",
    "s_words.append(\"\")\n",
    "s_words.append(\"amp\")\n",
    "s_words.append(\"b'\")\n",
    "s_words.append(\"brt\")\n",
    "s_words.append(\"bthe\")\n",
    "word_counts = word_counts[~word_counts[\"Word\"].isin(s_words)]"
   ]
  },
  {
   "cell_type": "code",
   "execution_count": 12,
   "metadata": {},
   "outputs": [
    {
     "data": {
      "text/html": [
       "<div>\n",
       "<style scoped>\n",
       "    .dataframe tbody tr th:only-of-type {\n",
       "        vertical-align: middle;\n",
       "    }\n",
       "\n",
       "    .dataframe tbody tr th {\n",
       "        vertical-align: top;\n",
       "    }\n",
       "\n",
       "    .dataframe thead th {\n",
       "        text-align: right;\n",
       "    }\n",
       "</style>\n",
       "<table border=\"1\" class=\"dataframe\">\n",
       "  <thead>\n",
       "    <tr style=\"text-align: right;\">\n",
       "      <th></th>\n",
       "      <th>Word</th>\n",
       "      <th>Count</th>\n",
       "    </tr>\n",
       "  </thead>\n",
       "  <tbody>\n",
       "    <tr>\n",
       "      <th>293</th>\n",
       "      <td>realdonaldtrump</td>\n",
       "      <td>13</td>\n",
       "    </tr>\n",
       "    <tr>\n",
       "      <th>64</th>\n",
       "      <td>president</td>\n",
       "      <td>11</td>\n",
       "    </tr>\n",
       "    <tr>\n",
       "      <th>399</th>\n",
       "      <td>new</td>\n",
       "      <td>11</td>\n",
       "    </tr>\n",
       "    <tr>\n",
       "      <th>19</th>\n",
       "      <td>schiff</td>\n",
       "      <td>10</td>\n",
       "    </tr>\n",
       "    <tr>\n",
       "      <th>259</th>\n",
       "      <td>democrats</td>\n",
       "      <td>9</td>\n",
       "    </tr>\n",
       "  </tbody>\n",
       "</table>\n",
       "</div>"
      ],
      "text/plain": [
       "                Word  Count\n",
       "293  realdonaldtrump     13\n",
       "64         president     11\n",
       "399              new     11\n",
       "19            schiff     10\n",
       "259        democrats      9"
      ]
     },
     "execution_count": 12,
     "metadata": {},
     "output_type": "execute_result"
    }
   ],
   "source": [
    "word_counts.head()"
   ]
  },
  {
   "cell_type": "code",
   "execution_count": 13,
   "metadata": {},
   "outputs": [
    {
     "data": {
      "text/plain": [
       "<matplotlib.figure.Figure at 0x1c18ac016a0>"
      ]
     },
     "metadata": {},
     "output_type": "display_data"
    },
    {
     "data": {
      "image/png": "[encoded data removed]",
      "text/plain": [
       "<matplotlib.figure.Figure at 0x1c18ac0b358>"
      ]
     },
     "metadata": {},
     "output_type": "display_data"
    }
   ],
   "source": [
    "# Plot the top n words and their word counts\n",
    "n = 10\n",
    "plt.figure()\n",
    "word_counts.iloc[0:n].sort_values(by = \"Count\", ascending = True).plot(kind = 'barh', x = 'Word', y = 'Count')\n",
    "plt.title(\"Donald Trump's Favorite Words\")\n",
    "\n",
    "plt.show()"
   ]
  },
  {
   "cell_type": "code",
   "execution_count": 14,
   "metadata": {},
   "outputs": [
    {
     "data": {
      "text/plain": [
       "b'Can you believe I am doing this important work for our Country, and have to deal with Corrupt Adam Schiff and the D\\xe2\\x80\\xa6 https://t.co/a9HvmsXW6O'"
      ]
     },
     "execution_count": 14,
     "metadata": {},
     "output_type": "execute_result"
    }
   ],
   "source": [
    "new_tweets[0].text.encode('UTF-8')"
   ]
  },
  {
   "cell_type": "code",
   "execution_count": null,
   "metadata": {},
   "outputs": [],
   "source": []
  }
 ],
 "metadata": {
  "anaconda-cloud": {},
  "kernelspec": {
   "display_name": "Python 3",
   "language": "python",
   "name": "python3"
  },
  "language_info": {
   "codemirror_mode": {
    "name": "ipython",
    "version": 3
   },
   "file_extension": ".py",
   "mimetype": "text/x-python",
   "name": "python",
   "nbconvert_exporter": "python",
   "pygments_lexer": "ipython3",
   "version": "3.6.4"
  }
 },
 "nbformat": 4,
 "nbformat_minor": 1
}
